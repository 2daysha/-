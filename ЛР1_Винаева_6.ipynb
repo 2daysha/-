{
  "metadata": {
    "kernelspec": {
      "name": "python",
      "display_name": "Python (Pyodide)",
      "language": "python"
    },
    "language_info": {
      "codemirror_mode": {
        "name": "python",
        "version": 3
      },
      "file_extension": ".py",
      "mimetype": "text/x-python",
      "name": "python",
      "nbconvert_exporter": "python",
      "pygments_lexer": "ipython3",
      "version": "3.8"
    },
    "colab": {
      "provenance": []
    }
  },
  "nbformat_minor": 4,
  "nbformat": 4,
  "cells": [
    {
      "cell_type": "markdown",
      "source": "**Цель работы:**\n\nОсуществить предварительную обработку данных csv-файла, выявить и устранить проблемы в этих данных.",
      "metadata": {
        "id": "bri_pAriNFqN"
      }
    },
    {
      "cell_type": "markdown",
      "source": "# Загрузка набора данных",
      "metadata": {
        "id": "r_e-GeJmgZ8l"
      }
    },
    {
      "cell_type": "markdown",
      "source": "### Описание предметной области",
      "metadata": {
        "id": "eeq9ZAbSguQS"
      }
    },
    {
      "cell_type": "markdown",
      "source": "Вариант №6\n\nНабор данных: visits.csv\n\nАтрибуты:\n1. user_id\n2. region\n3. device\n4. channel\n5. session_start\n6. session_end",
      "metadata": {
        "id": "XHbH8zNIg0Ib"
      },
      "attachments": {}
    },
    {
      "cell_type": "markdown",
      "source": "### 1.Чтение файла (набора данных)",
      "metadata": {
        "id": "Lwin9ia7hT1i"
      }
    },
    {
      "cell_type": "code",
      "source": "# Импорт библиотек и загрузка данных\nimport pandas as pd\ndf = pd.read_csv('visits.csv', sep=';')",
      "metadata": {
        "id": "a5dYQO5YhOYa",
        "trusted": true
      },
      "outputs": [],
      "execution_count": 102
    },
    {
      "cell_type": "markdown",
      "source": "### 2. Обзор данных",
      "metadata": {
        "id": "p82p53SvhjLN"
      }
    },
    {
      "cell_type": "markdown",
      "source": "2.1 Вывод первых 20 строк с помощью метода head.",
      "metadata": {
        "id": "eAYzXaLrh-qh"
      }
    },
    {
      "cell_type": "code",
      "source": "# применяем метод head\nprint(df.head(20))",
      "metadata": {
        "id": "7yMo3VZ_hotx",
        "trusted": true
      },
      "outputs": [
        {
          "name": "stdout",
          "output_type": "stream",
          "text": "            User_Id         Region   Device       Channel     Session_Start  \\\n0   981449000000,00  United States   iPhone       organic   01.05.2019 2:36   \n1   278966000000,00  United States   iPhone       organic   01.05.2019 4:46   \n2   590706000000,00  United States      Mac       organic  01.05.2019 14:09   \n3   326434000000,00  United States  Android        TipTop   01.05.2019 0:29   \n4   349774000000,00  United States      Mac       organic   01.05.2019 3:33   \n5    43958116050,00  United States  Android       organic   01.05.2019 9:03   \n6   185365000000,00  United States   iPhone       organic   01.05.2019 9:37   \n7   100971000000,00  United States      Mac        TipTop   01.05.2019 4:39   \n8   370456000000,00  United States   iPhone       organic  01.05.2019 14:44   \n9   141838000000,00  United States      Mac      FaceBoom   01.05.2019 6:20   \n10  924309000000,00  United States   iPhone       organic  01.05.2019 20:03   \n11  774938000000,00  United States   iPhone  MediaTornado  01.05.2019 14:01   \n12  244879000000,00  United States   iPhone  MediaTornado   01.05.2019 1:59   \n13  157877000000,00  United States      Mac       organic  01.05.2019 10:25   \n14  524629000000,00  United States      Mac       organic  01.05.2019 17:06   \n15  136227000000,00  United States       PC       organic  01.05.2019 19:34   \n16  684979000000,00  United States   iPhone        TipTop   01.05.2019 1:51   \n17  905776000000,00  United States   iPhone       organic  01.05.2019 14:26   \n18   15174034813,00  United States   iPhone      FaceBoom  01.05.2019 15:34   \n19  188246000000,00  United States  Android      FaceBoom  01.05.2019 23:09   \n\n         SESSION_End  \n0    01.05.2019 2:45  \n1    01.05.2019 4:47  \n2   01.05.2019 15:32  \n3    01.05.2019 0:54  \n4    01.05.2019 3:57  \n5   01.05.2019 10:08  \n6   01.05.2019 10:00  \n7    01.05.2019 4:57  \n8   01.05.2019 15:41  \n9    01.05.2019 6:54  \n10  01.05.2019 20:19  \n11  01.05.2019 14:29  \n12   01.05.2019 2:21  \n13  01.05.2019 10:35  \n14  01.05.2019 18:05  \n15  01.05.2019 19:39  \n16   01.05.2019 2:12  \n17  01.05.2019 14:35  \n18  01.05.2019 15:56  \n19  01.05.2019 23:21  \n"
        }
      ],
      "execution_count": 103
    },
    {
      "cell_type": "markdown",
      "source": "2.2 Оценка данных с помощью метода info.",
      "metadata": {
        "id": "Ze-lXxLMhpWv"
      }
    },
    {
      "cell_type": "code",
      "source": "# выполняем метод info\ndf.info()",
      "metadata": {
        "id": "bjhngmaLiGM-",
        "trusted": true
      },
      "outputs": [
        {
          "name": "stdout",
          "output_type": "stream",
          "text": "<class 'pandas.core.frame.DataFrame'>\nRangeIndex: 957 entries, 0 to 956\nData columns (total 6 columns):\n #   Column         Non-Null Count  Dtype \n---  ------         --------------  ----- \n 0   User_Id        957 non-null    object\n 1   Region         956 non-null    object\n 2   Device         955 non-null    object\n 3   Channel        957 non-null    object\n 4   Session_Start  955 non-null    object\n 5   SESSION_End    955 non-null    object\ndtypes: object(6)\nmemory usage: 22.5+ KB\n"
        }
      ],
      "execution_count": 104
    },
    {
      "cell_type": "markdown",
      "source": "2.3 Оценка данных с помощью метода describe.",
      "metadata": {
        "id": "06PDq9DAiMAY"
      }
    },
    {
      "cell_type": "code",
      "source": "# оцениваем числовые столбцы с помощью describe\ndf.describe()",
      "metadata": {
        "id": "cTVFwzO1jQfN",
        "trusted": true
      },
      "outputs": [
        {
          "execution_count": 105,
          "output_type": "execute_result",
          "data": {
            "text/plain": "                User_Id         Region  Device  Channel     Session_Start  \\\ncount               957            956     955      957               955   \nunique              865              2       6        4               820   \ntop     179085000000,00  United States  iPhone  organic  02.05.2019 20:16   \nfreq                  4            955     421      612                 4   \n\n             SESSION_End  \ncount                955  \nunique               836  \ntop     02.05.2019 22:48  \nfreq                   3  ",
            "text/html": "<div>\n<style scoped>\n    .dataframe tbody tr th:only-of-type {\n        vertical-align: middle;\n    }\n\n    .dataframe tbody tr th {\n        vertical-align: top;\n    }\n\n    .dataframe thead th {\n        text-align: right;\n    }\n</style>\n<table border=\"1\" class=\"dataframe\">\n  <thead>\n    <tr style=\"text-align: right;\">\n      <th></th>\n      <th>User_Id</th>\n      <th>Region</th>\n      <th>Device</th>\n      <th>Channel</th>\n      <th>Session_Start</th>\n      <th>SESSION_End</th>\n    </tr>\n  </thead>\n  <tbody>\n    <tr>\n      <th>count</th>\n      <td>957</td>\n      <td>956</td>\n      <td>955</td>\n      <td>957</td>\n      <td>955</td>\n      <td>955</td>\n    </tr>\n    <tr>\n      <th>unique</th>\n      <td>865</td>\n      <td>2</td>\n      <td>6</td>\n      <td>4</td>\n      <td>820</td>\n      <td>836</td>\n    </tr>\n    <tr>\n      <th>top</th>\n      <td>179085000000,00</td>\n      <td>United States</td>\n      <td>iPhone</td>\n      <td>organic</td>\n      <td>02.05.2019 20:16</td>\n      <td>02.05.2019 22:48</td>\n    </tr>\n    <tr>\n      <th>freq</th>\n      <td>4</td>\n      <td>955</td>\n      <td>421</td>\n      <td>612</td>\n      <td>4</td>\n      <td>3</td>\n    </tr>\n  </tbody>\n</table>\n</div>"
          },
          "metadata": {}
        }
      ],
      "execution_count": 105
    },
    {
      "cell_type": "markdown",
      "source": "\n\n\n**Вывод:  Некоторые пользователи возвращаются в магазин несколько раз, магазин преимущественно обслуживает пользователей из США, мобильные устройства (особенно iPhone) доминируют, органический трафик - основной источник пользователей. Данные охватывают период с 1-2 мая 2019 года, есть пиковые часы активности**\n \n",
      "metadata": {
        "id": "oOZUrZGuiGqc"
      }
    },
    {
      "cell_type": "markdown",
      "source": " 2.4 Оценка названий столбцов",
      "metadata": {
        "id": "JTbo0IGDiHxn"
      }
    },
    {
      "cell_type": "code",
      "source": "# Вывести на экран названия столбцов с помощью df.columns. Выявить проблемы с названиями, если они есть. При необходимости переименовать столбцы. Если проблемы не обнаружены также дать пояснения.\ndf.columns",
      "metadata": {
        "id": "9NEyi2Odik3e",
        "trusted": true
      },
      "outputs": [
        {
          "execution_count": 106,
          "output_type": "execute_result",
          "data": {
            "text/plain": "Index(['User_Id', 'Region', 'Device', 'Channel', 'Session_Start',\n       'SESSION_End'],\n      dtype='object')"
          },
          "metadata": {}
        }
      ],
      "execution_count": 106
    },
    {
      "cell_type": "code",
      "source": "# исправляем несоответствие в регистре\ndf = df.rename(columns={'SESSION_End': 'Session_End'})\nprint(\"Исправлено: SESSION_End -> Session_End\")\nprint()",
      "metadata": {
        "id": "QSJBLl4qjjP8",
        "trusted": true
      },
      "outputs": [
        {
          "name": "stdout",
          "output_type": "stream",
          "text": "Исправлено: SESSION_End -> Session_End\n\n"
        }
      ],
      "execution_count": 107
    },
    {
      "cell_type": "markdown",
      "source": "### 3. Проверка пропусков",
      "metadata": {
        "id": "V0tLQcyrjnA_"
      }
    },
    {
      "cell_type": "code",
      "source": "# проверить данные на наличие пропусков и устранить их, если они есть (пропуски необходимо либо удалить, либо заменить каким-то значением).\nprint(df.isna().sum())",
      "metadata": {
        "id": "xuTz-Avjj9AW",
        "trusted": true
      },
      "outputs": [
        {
          "name": "stdout",
          "output_type": "stream",
          "text": "User_Id          0\nRegion           1\nDevice           2\nChannel          0\nSession_Start    2\nSession_End      2\ndtype: int64\n"
        }
      ],
      "execution_count": 108
    },
    {
      "cell_type": "markdown",
      "source": "**Решение: Удаление строк с пропусками (так как пропусков мало)**",
      "metadata": {}
    },
    {
      "cell_type": "code",
      "source": "# удаляем строки с пропусками\ndf_cleaned = df.dropna()\nprint(f\"Удалено строк: {len(df) - len(df_cleaned)}\")\nprint(f\"Осталось записей: {len(df_cleaned)}\")\nprint()",
      "metadata": {
        "trusted": true
      },
      "outputs": [
        {
          "name": "stdout",
          "output_type": "stream",
          "text": "Удалено строк: 3\nОсталось записей: 954\n\n"
        }
      ],
      "execution_count": 109
    },
    {
      "cell_type": "markdown",
      "source": "\n---\n\n**Вы должны аргументировать на защите, почему были выполнены те или иные действия с пропусками, а также знать другие способы работы с пропусками, чтобы\n ответить на вопросы на защите.**\n\n\n ---",
      "metadata": {
        "id": "efZ7vgSVkPQH"
      }
    },
    {
      "cell_type": "markdown",
      "source": "### 4. Проверка дубликатов",
      "metadata": {
        "id": "kkyrXXHikEXk"
      }
    },
    {
      "cell_type": "markdown",
      "source": "#### Проверка явных дубликатов",
      "metadata": {
        "id": "ImqHvr3okIQ6"
      }
    },
    {
      "cell_type": "code",
      "source": "# проверяем таблицу на наличие дубликатов\ndf[df.duplicated()]",
      "metadata": {
        "id": "qu1oh-e5lDZ1",
        "trusted": true
      },
      "outputs": [
        {
          "execution_count": 110,
          "output_type": "execute_result",
          "data": {
            "text/plain": "             User_Id         Region Device  Channel    Session_Start  \\\n480  179085000000,00  United States    Mac  organic  01.05.2019 7:27   \n481  179085000000,00  United States    Mac  organic  01.05.2019 7:27   \n\n         Session_End  \n480  01.05.2019 7:49  \n481  01.05.2019 7:49  ",
            "text/html": "<div>\n<style scoped>\n    .dataframe tbody tr th:only-of-type {\n        vertical-align: middle;\n    }\n\n    .dataframe tbody tr th {\n        vertical-align: top;\n    }\n\n    .dataframe thead th {\n        text-align: right;\n    }\n</style>\n<table border=\"1\" class=\"dataframe\">\n  <thead>\n    <tr style=\"text-align: right;\">\n      <th></th>\n      <th>User_Id</th>\n      <th>Region</th>\n      <th>Device</th>\n      <th>Channel</th>\n      <th>Session_Start</th>\n      <th>Session_End</th>\n    </tr>\n  </thead>\n  <tbody>\n    <tr>\n      <th>480</th>\n      <td>179085000000,00</td>\n      <td>United States</td>\n      <td>Mac</td>\n      <td>organic</td>\n      <td>01.05.2019 7:27</td>\n      <td>01.05.2019 7:49</td>\n    </tr>\n    <tr>\n      <th>481</th>\n      <td>179085000000,00</td>\n      <td>United States</td>\n      <td>Mac</td>\n      <td>organic</td>\n      <td>01.05.2019 7:27</td>\n      <td>01.05.2019 7:49</td>\n    </tr>\n  </tbody>\n</table>\n</div>"
          },
          "metadata": {}
        }
      ],
      "execution_count": 110
    },
    {
      "cell_type": "code",
      "source": "# удаляем дубликат\ndf=df.drop_duplicates().reset_index(drop=True)",
      "metadata": {
        "id": "ntArgvChkK26",
        "trusted": true
      },
      "outputs": [],
      "execution_count": 111
    },
    {
      "cell_type": "markdown",
      "source": "#### Проверка неявных дубликатов",
      "metadata": {
        "id": "VeHTMcOmkLSw"
      }
    },
    {
      "cell_type": "code",
      "source": "# Проверка неявных дубликатов\nprint(\"Проверка неявных дубликатов:\")\n\n# Ключевые комбинации для проверки\ncheck_combinations = [\n    ['User_Id', 'Session_Start'],\n    ['User_Id', 'Session_Start', 'Session_End'],\n    ['User_Id', 'Device', 'Channel', 'Session_Start']\n]\n\nfor cols in check_combinations:\n    duplicates = df.duplicated(subset=cols).sum()\n    print(f\"Дубликатов по {cols}: {duplicates}\")\n\n# Итог\ntotal_duplicates = df.duplicated().sum()\nprint(f\"Полных дубликатов: {total_duplicates}\")",
      "metadata": {
        "id": "-uOPKHlVlGo8",
        "trusted": true
      },
      "outputs": [
        {
          "name": "stdout",
          "output_type": "stream",
          "text": "Проверка неявных дубликатов:\nДубликатов по ['User_Id', 'Session_Start']: 0\nДубликатов по ['User_Id', 'Session_Start', 'Session_End']: 0\nДубликатов по ['User_Id', 'Device', 'Channel', 'Session_Start']: 0\nПолных дубликатов: 0\n"
        }
      ],
      "execution_count": 112
    },
    {
      "cell_type": "code",
      "source": "# удалите дубликаты, если они есть",
      "metadata": {
        "id": "89tMFEQ2k_M7"
      },
      "outputs": [],
      "execution_count": null
    },
    {
      "cell_type": "markdown",
      "source": "---\n\n**Вы должны аргументировать на защите, почему были выполнены те или иные действия с дубликатами, знать, что такое явные и неявные дубликаты и способы работы с ними, чтобы ответить на вопросы на защите.**\n\n\n ---",
      "metadata": {
        "id": "GMcnDpOmlKhU"
      }
    },
    {
      "cell_type": "markdown",
      "source": "### 5. Провека типов данных",
      "metadata": {
        "id": "md9GhfYMlbi7"
      }
    },
    {
      "cell_type": "code",
      "source": "# Проверка типов данных\nprint(df.dtypes)\nprint()",
      "metadata": {
        "id": "lXTroENaluCW",
        "trusted": true
      },
      "outputs": [
        {
          "name": "stdout",
          "output_type": "stream",
          "text": "Типы данных до преобразования:\nUser_Id                  object\nRegion                 category\nDevice                 category\nChannel                category\nSession_Start    datetime64[ns]\nSession_End      datetime64[ns]\ndtype: object\n\n"
        }
      ],
      "execution_count": 115
    },
    {
      "cell_type": "code",
      "source": "# преобразование User_Id в числовой формат\ndf['User_Id'] = pd.to_numeric(df['User_Id'], errors='coerce')\n\nprint(\"Финальные типы данных:\")\nprint(df.dtypes)",
      "metadata": {
        "id": "WXhXgu29lop3",
        "trusted": true
      },
      "outputs": [
        {
          "name": "stdout",
          "output_type": "stream",
          "text": "Финальные типы данных:\nUser_Id                 float64\nRegion                 category\nDevice                 category\nChannel                category\nSession_Start    datetime64[ns]\nSession_End      datetime64[ns]\ndtype: object\n"
        }
      ],
      "execution_count": 116
    },
    {
      "cell_type": "markdown",
      "source": "---\n\n**Обратите внимание, что во всех вариантах необходимо сделать приведение типов. Будьте готовы на защите аргументировать проверку типов (почему выполнены те или иные преобразования).**\n\n\n ---",
      "metadata": {
        "id": "DPDBNN4dlx7W"
      }
    },
    {
      "cell_type": "markdown",
      "source": "### 6. Группировка данных",
      "metadata": {
        "id": "lzr0SgqlnmHy"
      }
    },
    {
      "cell_type": "markdown",
      "source": "#### Задание 1",
      "metadata": {
        "id": "QG_dbwzfmZoS"
      }
    },
    {
      "cell_type": "markdown",
      "source": "*`Группировка - region и количество устройств (device )`*",
      "metadata": {
        "id": "CyCKTB4DmciW"
      }
    },
    {
      "cell_type": "code",
      "source": "result = df.groupby(['Region', 'Device'], observed=True).size()\nprint(result)",
      "metadata": {
        "id": "tp8Bl1gumYlI",
        "trusted": true
      },
      "outputs": [
        {
          "name": "stdout",
          "output_type": "stream",
          "text": "Region         Device \nUSA            PC           1\nUnited States  Android    185\n               IPHONE       2\n               MAC          1\n               Mac        241\n               PC         102\n               iPhone     421\ndtype: int64\n"
        }
      ],
      "execution_count": 128
    },
    {
      "cell_type": "markdown",
      "source": "**Сгруппировав данные можно сделать вывод, что самые частые пользователи находятся в США и являются пользователями iPhone**",
      "metadata": {
        "id": "jLmhNuq0mms3"
      }
    },
    {
      "cell_type": "markdown",
      "source": "---\n\n**Обратите внимание, что на защите вы должны ориентироваться в синтаксисе. При необходимости нужно быть готовым изменить код по просьбе преподавателя. Например, вместо среднего значения подсчитать медиану и т.д.**\n\n\n ---",
      "metadata": {
        "id": "quMr70SmnMXS"
      }
    },
    {
      "cell_type": "markdown",
      "source": "#### Задание 2",
      "metadata": {
        "id": "j0isGCzEne7a"
      }
    },
    {
      "cell_type": "markdown",
      "source": "*`Группировка - device и количество рекламных источников каждого\nтипа (channel). Создать датафрейм. Переименовать столбец с количеством в\n“сount”. Отсортировать по убыванию столбца “count”. `*",
      "metadata": {
        "id": "kE2vLBWbne7a"
      }
    },
    {
      "cell_type": "code",
      "source": "result = df.groupby(['Device', 'Channel']).size().reset_index(name='count')\nresult = result.rename(columns={'count': 'count'})  # Меняем название на count\nresult = result.sort_values('count', ascending=True)  # Сортировка по убыванию\ndisplay(result)",
      "metadata": {
        "id": "ttn78Zaene7a",
        "trusted": true
      },
      "outputs": [
        {
          "name": "stderr",
          "output_type": "stream",
          "text": "<ipython-input-146-b3f01fd770fb>:1: FutureWarning: The default of observed=False is deprecated and will be changed to True in a future version of pandas. Pass observed=False to retain current behavior or observed=True to adopt the future default and silence this warning.\n  result = df.groupby(['Device', 'Channel']).size().reset_index(name='count')\n"
        },
        {
          "output_type": "display_data",
          "data": {
            "text/plain": "     Device       Channel  count\n11      MAC       organic      0\n4    IPHONE      FaceBoom      0\n5    IPHONE  MediaTornado      0\n6    IPHONE        TipTop      0\n9       MAC  MediaTornado      0\n10      MAC        TipTop      0\n8       MAC      FaceBoom      1\n7    IPHONE       organic      2\n17       PC  MediaTornado      2\n13      Mac  MediaTornado     10\n1   Android  MediaTornado     11\n18       PC        TipTop     14\n16       PC      FaceBoom     15\n14      Mac        TipTop     24\n2   Android        TipTop     26\n21   iPhone  MediaTornado     30\n0   Android      FaceBoom     33\n12      Mac      FaceBoom     35\n20   iPhone      FaceBoom     65\n19       PC       organic     72\n22   iPhone        TipTop     79\n3   Android       organic    115\n15      Mac       organic    172\n23   iPhone       organic    247",
            "text/html": "<div>\n<style scoped>\n    .dataframe tbody tr th:only-of-type {\n        vertical-align: middle;\n    }\n\n    .dataframe tbody tr th {\n        vertical-align: top;\n    }\n\n    .dataframe thead th {\n        text-align: right;\n    }\n</style>\n<table border=\"1\" class=\"dataframe\">\n  <thead>\n    <tr style=\"text-align: right;\">\n      <th></th>\n      <th>Device</th>\n      <th>Channel</th>\n      <th>count</th>\n    </tr>\n  </thead>\n  <tbody>\n    <tr>\n      <th>11</th>\n      <td>MAC</td>\n      <td>organic</td>\n      <td>0</td>\n    </tr>\n    <tr>\n      <th>4</th>\n      <td>IPHONE</td>\n      <td>FaceBoom</td>\n      <td>0</td>\n    </tr>\n    <tr>\n      <th>5</th>\n      <td>IPHONE</td>\n      <td>MediaTornado</td>\n      <td>0</td>\n    </tr>\n    <tr>\n      <th>6</th>\n      <td>IPHONE</td>\n      <td>TipTop</td>\n      <td>0</td>\n    </tr>\n    <tr>\n      <th>9</th>\n      <td>MAC</td>\n      <td>MediaTornado</td>\n      <td>0</td>\n    </tr>\n    <tr>\n      <th>10</th>\n      <td>MAC</td>\n      <td>TipTop</td>\n      <td>0</td>\n    </tr>\n    <tr>\n      <th>8</th>\n      <td>MAC</td>\n      <td>FaceBoom</td>\n      <td>1</td>\n    </tr>\n    <tr>\n      <th>7</th>\n      <td>IPHONE</td>\n      <td>organic</td>\n      <td>2</td>\n    </tr>\n    <tr>\n      <th>17</th>\n      <td>PC</td>\n      <td>MediaTornado</td>\n      <td>2</td>\n    </tr>\n    <tr>\n      <th>13</th>\n      <td>Mac</td>\n      <td>MediaTornado</td>\n      <td>10</td>\n    </tr>\n    <tr>\n      <th>1</th>\n      <td>Android</td>\n      <td>MediaTornado</td>\n      <td>11</td>\n    </tr>\n    <tr>\n      <th>18</th>\n      <td>PC</td>\n      <td>TipTop</td>\n      <td>14</td>\n    </tr>\n    <tr>\n      <th>16</th>\n      <td>PC</td>\n      <td>FaceBoom</td>\n      <td>15</td>\n    </tr>\n    <tr>\n      <th>14</th>\n      <td>Mac</td>\n      <td>TipTop</td>\n      <td>24</td>\n    </tr>\n    <tr>\n      <th>2</th>\n      <td>Android</td>\n      <td>TipTop</td>\n      <td>26</td>\n    </tr>\n    <tr>\n      <th>21</th>\n      <td>iPhone</td>\n      <td>MediaTornado</td>\n      <td>30</td>\n    </tr>\n    <tr>\n      <th>0</th>\n      <td>Android</td>\n      <td>FaceBoom</td>\n      <td>33</td>\n    </tr>\n    <tr>\n      <th>12</th>\n      <td>Mac</td>\n      <td>FaceBoom</td>\n      <td>35</td>\n    </tr>\n    <tr>\n      <th>20</th>\n      <td>iPhone</td>\n      <td>FaceBoom</td>\n      <td>65</td>\n    </tr>\n    <tr>\n      <th>19</th>\n      <td>PC</td>\n      <td>organic</td>\n      <td>72</td>\n    </tr>\n    <tr>\n      <th>22</th>\n      <td>iPhone</td>\n      <td>TipTop</td>\n      <td>79</td>\n    </tr>\n    <tr>\n      <th>3</th>\n      <td>Android</td>\n      <td>organic</td>\n      <td>115</td>\n    </tr>\n    <tr>\n      <th>15</th>\n      <td>Mac</td>\n      <td>organic</td>\n      <td>172</td>\n    </tr>\n    <tr>\n      <th>23</th>\n      <td>iPhone</td>\n      <td>organic</td>\n      <td>247</td>\n    </tr>\n  </tbody>\n</table>\n</div>"
          },
          "metadata": {}
        }
      ],
      "execution_count": 146
    },
    {
      "cell_type": "markdown",
      "source": "**Анализ показывает, что органический источник лучший среди всех устройств, при этом FaceBoom наиболее эффективен для пользователей Mac, а TipTop лучше конвертирует мобильную аудиторию, тогда как MediaTornado демонстрирует наименьшую эффективность.**",
      "metadata": {
        "id": "HCyyeAu6ne7a"
      }
    },
    {
      "cell_type": "markdown",
      "source": "---\n\n**Обратите внимание, что на защите вы должны ориентироваться в синтаксисе. При необходимости нужно быть готовым изменить код по просьбе преподавателя. Например, вместо среднего значения подсчитать медиану и т.д.**\n\n\n ---",
      "metadata": {
        "id": "NKLZ0m7Nne7b"
      }
    },
    {
      "cell_type": "markdown",
      "source": "#### Задание 3",
      "metadata": {
        "id": "_3fHGp64nhUJ"
      }
    },
    {
      "cell_type": "markdown",
      "source": "*`Сводная таблица (pivot_table) - количество пользователей для каждого\nканала (device). Отсортировать по убыванию количества.\n`*",
      "metadata": {
        "id": "_Bc4ehyKnhUJ"
      }
    },
    {
      "cell_type": "code",
      "source": "df = pd.read_csv('visits.csv', sep=';')\n\ndf['User_Id'] = pd.to_numeric(df['User_Id'].astype(str).str.replace(',', '.'), errors='coerce')\n\n# количество пользователей для каждого канала\npivot_result = pd.pivot_table(df,\n                             values='User_Id', \n                             index='Channel',\n                             aggfunc='count',\n                             observed=True)\n\n# сортировка по убыванию количества\npivot_result = pivot_result.sort_values('User_Id', ascending=False)\npivot_result = pivot_result.rename(columns={'User_Id': 'count'})\ndisplay(pivot_result)",
      "metadata": {
        "id": "siDovPvQnhUJ",
        "trusted": true
      },
      "outputs": [
        {
          "output_type": "display_data",
          "data": {
            "text/plain": "              count\nChannel            \norganic         612\nFaceBoom        149\nTipTop          143\nMediaTornado     53",
            "text/html": "<div>\n<style scoped>\n    .dataframe tbody tr th:only-of-type {\n        vertical-align: middle;\n    }\n\n    .dataframe tbody tr th {\n        vertical-align: top;\n    }\n\n    .dataframe thead th {\n        text-align: right;\n    }\n</style>\n<table border=\"1\" class=\"dataframe\">\n  <thead>\n    <tr style=\"text-align: right;\">\n      <th></th>\n      <th>count</th>\n    </tr>\n    <tr>\n      <th>Channel</th>\n      <th></th>\n    </tr>\n  </thead>\n  <tbody>\n    <tr>\n      <th>organic</th>\n      <td>612</td>\n    </tr>\n    <tr>\n      <th>FaceBoom</th>\n      <td>149</td>\n    </tr>\n    <tr>\n      <th>TipTop</th>\n      <td>143</td>\n    </tr>\n    <tr>\n      <th>MediaTornado</th>\n      <td>53</td>\n    </tr>\n  </tbody>\n</table>\n</div>"
          },
          "metadata": {}
        }
      ],
      "execution_count": 149
    },
    {
      "cell_type": "markdown",
      "source": "**Органический трафик является доминирующим каналом привлечения пользователей, в то время как MediaTornado демонстрирует наименьшую эффективность**",
      "metadata": {
        "id": "1-vw8iyUnhUK"
      }
    },
    {
      "cell_type": "markdown",
      "source": "---\n\n**Обратите внимание, что на защите вы должны ориентироваться в синтаксисе. При необходимости нужно быть готовым изменить код по просьбе преподавателя. Например, вместо среднего значения подсчитать медиану и т.д.**\n\n\n ---",
      "metadata": {
        "id": "wKFm0zDenhUK"
      }
    },
    {
      "cell_type": "markdown",
      "source": "#### Задание 4",
      "metadata": {
        "id": "FOlw74xCniNo"
      }
    },
    {
      "cell_type": "markdown",
      "source": "*`Сводная таблица (pivot_table) - количество пользователей для каждого\nустройства (device) - строки и канала - столбцы. Отсортировать по возрастанию\nстолбца device.\n`*",
      "metadata": {
        "id": "4tvYwT25niNq"
      }
    },
    {
      "cell_type": "code",
      "source": "pivot_result = pd.pivot_table(df,\n                             values='User_Id', \n                             index='Device',\n                             columns='Channel',\n                             aggfunc='count',\n                             fill_value=0,\n                             observed=True)\n\n# сортировка по возрастанию названий устройств\npivot_result = pivot_result.sort_index(ascending=True)\n\ndisplay(pivot_result)",
      "metadata": {
        "id": "TfJ719g6niNq",
        "trusted": true
      },
      "outputs": [
        {
          "output_type": "display_data",
          "data": {
            "text/plain": "Channel  FaceBoom  MediaTornado  TipTop  organic\nDevice                                          \nAndroid        33            11      26      115\nIPHONE          0             0       0        2\nMAC             1             0       0        0\nMac            35            10      24      174\nPC             15             2      14       72\niPhone         65            30      79      247",
            "text/html": "<div>\n<style scoped>\n    .dataframe tbody tr th:only-of-type {\n        vertical-align: middle;\n    }\n\n    .dataframe tbody tr th {\n        vertical-align: top;\n    }\n\n    .dataframe thead th {\n        text-align: right;\n    }\n</style>\n<table border=\"1\" class=\"dataframe\">\n  <thead>\n    <tr style=\"text-align: right;\">\n      <th>Channel</th>\n      <th>FaceBoom</th>\n      <th>MediaTornado</th>\n      <th>TipTop</th>\n      <th>organic</th>\n    </tr>\n    <tr>\n      <th>Device</th>\n      <th></th>\n      <th></th>\n      <th></th>\n      <th></th>\n    </tr>\n  </thead>\n  <tbody>\n    <tr>\n      <th>Android</th>\n      <td>33</td>\n      <td>11</td>\n      <td>26</td>\n      <td>115</td>\n    </tr>\n    <tr>\n      <th>IPHONE</th>\n      <td>0</td>\n      <td>0</td>\n      <td>0</td>\n      <td>2</td>\n    </tr>\n    <tr>\n      <th>MAC</th>\n      <td>1</td>\n      <td>0</td>\n      <td>0</td>\n      <td>0</td>\n    </tr>\n    <tr>\n      <th>Mac</th>\n      <td>35</td>\n      <td>10</td>\n      <td>24</td>\n      <td>174</td>\n    </tr>\n    <tr>\n      <th>PC</th>\n      <td>15</td>\n      <td>2</td>\n      <td>14</td>\n      <td>72</td>\n    </tr>\n    <tr>\n      <th>iPhone</th>\n      <td>65</td>\n      <td>30</td>\n      <td>79</td>\n      <td>247</td>\n    </tr>\n  </tbody>\n</table>\n</div>"
          },
          "metadata": {}
        }
      ],
      "execution_count": 151
    },
    {
      "cell_type": "markdown",
      "source": "**iPhone доминирует по количеству пользователей среди всех рекламных каналов, при этом органический трафик является основным источником для всех типов устройств, тогда как MediaTornado показывает наименьшую эффективность во всех категориях.**",
      "metadata": {
        "id": "yqJqvk5qniNr"
      }
    },
    {
      "cell_type": "markdown",
      "source": "---\n\n**Обратите внимание, что на защите вы должны ориентироваться в синтаксисе. При необходимости нужно быть готовым изменить код по просьбе преподавателя. Например, вместо среднего значения подсчитать медиану и т.д.**\n\n\n ---",
      "metadata": {
        "id": "tIkuqJKUniNs"
      }
    },
    {
      "cell_type": "markdown",
      "source": "### Вывод",
      "metadata": {
        "id": "TpnXb6gip3S8"
      }
    },
    {
      "cell_type": "markdown",
      "source": "\n***Анализ данных пользовательских сессий магазина выявил ключевые закономерности: основная аудитория состоит из пользователей из США, преимущественно использующих мобильные устройства - iPhone и Android составляют более 70% всего трафика. Органический трафик является доминирующим источником привлечения с 612 пользователями, значительно опережая рекламные каналы FaceBoom и TipTop, которые тем не менее демонстрируют хорошую эффективность, в то время как MediaTornado показывает наименьшие результаты. Наиболее активными являются пользователи iPhone across всех каналов, тогда как аудитория Mac чаще приходит через FaceBoom, а пользователи Android демонстрируют сбалансированное распределение по каналам. Полученные insights позволяют рекомендовать усиление SEO для роста органического трафика, оптимизацию FaceBoom для премиальной аудитории, развитие TipTop для мобильных пользователей и пересмотр медийной стратегии MediaTornado.***\n",
      "metadata": {
        "id": "nqLa096jM1Z8"
      }
    },
    {
      "cell_type": "markdown",
      "source": "### Дополнительное задание",
      "metadata": {
        "id": "Sn3y7og_vjGG",
        "jp-MarkdownHeadingCollapsed": true
      }
    },
    {
      "cell_type": "markdown",
      "source": "**`Подробная формулировка задания`**",
      "metadata": {
        "id": "rR6WgHXYvlqD"
      }
    },
    {
      "cell_type": "code",
      "source": "# код выполнения задания",
      "metadata": {
        "id": "wG5TGQpevlBq"
      },
      "outputs": [],
      "execution_count": null
    },
    {
      "cell_type": "markdown",
      "source": "***`Подробный вывод по заданию, описание полученных результатов`***",
      "metadata": {
        "id": "y-qpTuhTvon3"
      }
    }
  ]
}